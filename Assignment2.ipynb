{
 "cells": [
  {
   "cell_type": "markdown",
   "id": "52314ed0",
   "metadata": {},
   "source": [
    "# Assignment 2: Python for Text Processing\n",
    "\n",
    "**Submission deadline:** Friday, 31 Oct 2025, 11:55 PM  \n",
    "**Assessment marks:** 35 marks (35% of the total unit assessment)\n",
    "\n",
    "---\n",
    "\n",
    "### Late Submission Penalty\n",
    "\n",
    "Unless a Special Consideration request has been submitted and approved, a 5% penalty (of the total possible mark of the task) will be applied for each day a written report or presentation assessment is not submitted, up until the 7th day (including weekends). After the 7th day, a grade of ‘0’ will be awarded even if the assessment is submitted.\n",
    "\n",
    "> **Example:** If the assignment is worth 8 marks (of the entire unit) and your submission is late by 19 hours (or 23 hours 59 minutes 59 seconds), 0.4 marks (5% of 8 marks) will be deducted. If your submission is late by 24 hours (or 47 hours 59 minutes 59 seconds), 0.8 marks (10% of 8 marks) will be deducted, and so on.\n",
    "\n",
    "The submission time for all uploaded assessments is **11:55 PM**. A **1-hour grace period** is provided for technical concerns.  Apply for [Special Consideration](https://students.mq.edu.au/study/assessment-exams/special-consideration), if you think you should be granted an extended deadline or waive the late submission penalty. You should apply immediately when the situation occurs.\n",
    "\n",
    "---\n",
    "\n",
    "### Academic Integrity\n",
    "\n",
    "All submitted work must be your own. For rules around AI tools, refer to **\"Using Generative AI Tools\" on iLearn**.\n",
    "\n",
    "---\n",
    "\n",
    "## Instructions\n",
    "\n",
    "* Complete the five tasks below.\n",
    "\n",
    "* Write your code and comments inside this notebook.\n",
    "\n",
    "* Your notebook must include the running outputs of your final code.\n",
    "\n",
    "* **Submit this `.ipynb` file, containing your code and outputs, to iLearn.**\n",
    "\n",
    "---\n",
    "\n",
    "### Assessment\n",
    "\n",
    "-  Marks are based on the correctness of your code, outputs, and coding style.\n",
    "-  A total of **2.5 marks** (0.5 per task) are awarded globally across the assignment for both of the below: (1) runnable codes; (2) good coding style: clean, modular code, meaningful variable names, and good comments.\n",
    "-  If outputs are missing or incorrect, up to **25% of the marks for that task** can be deducted.\n",
    "-  See each task below for the detailed mark breakdown.\n",
    "\n",
    "---\n",
    "\n",
    "### AI Tools Usage Policy\n",
    "\n",
    "\n",
    "In this assignment, we view AI code generators such as copilot, CodeGPT, etc as tools that can help you write code quickly. You are allowed to use these tools, but with some conditions. To understand what you can and what you cannot do, please visit these information pages provided by Macquarie University.\n",
    "\n",
    "- See: [Artificial Intelligence Tools and Academic Integrity in FSE](https://bit.ly/3uxgQP4)\n",
    "\n",
    "If you choose to use these tools, make the following explicit in your submitted file as comments starting with \"Use of AI generators in this assignment\" :\n",
    "\n",
    "- What part of your code is based on the output of such tools,\n",
    "- What tools you used,\n",
    "- What prompts you used to generate the code or text, and\n",
    "- What modifications you made on the generated code or text?\n",
    "\n",
    "This will help us assess your work fairly. \n",
    "\n",
    "**If we observe that you have used an AI generator and you do not give the above information, you may face disciplinary action.**\n",
    "\n",
    "\n"
   ]
  },
  {
   "cell_type": "markdown",
   "id": "cde6c533",
   "metadata": {},
   "source": [
    "\n",
    "## Objectives of this assignment\n",
    "\n",
    "In this assignment, you will work on the Quora Question Pairs (QQP) datset detailed below. The first two tasks will help you get familiar with the data, and the remaining requires you to implement deep neural networks.\n",
    "\n",
    "\n",
    "**About the Quora Question Pairs (QQP) Dataset**\n",
    "\n",
    "Description: A large dataset of 400k+ question pairs from Quora, labeled whether they are duplicates (semantically the same) or not. It features informal, noisy text with class imbalance, hard positives (low lexical overlap) and hard negatives (high overlap, different meaning). QQP is practically relevant for deduplicating FAQs, search, and support systems. Working on QQP builds transferable skills, such as text preprocessing, model comparison, threshold tuning, error analysis, and deployment-minded reasoning about real applications."
   ]
  },
  {
   "cell_type": "markdown",
   "id": "e4113f16",
   "metadata": {},
   "source": [
    "**Get familiar with the dataset**"
   ]
  },
  {
   "cell_type": "code",
   "execution_count": 187,
   "id": "d3b74181",
   "metadata": {},
   "outputs": [
    {
     "name": "stderr",
     "output_type": "stream",
     "text": [
      "huggingface/tokenizers: The current process just got forked, after parallelism has already been used. Disabling parallelism to avoid deadlocks...\n",
      "To disable this warning, you can either:\n",
      "\t- Avoid using `tokenizers` before the fork if possible\n",
      "\t- Explicitly set the environment variable TOKENIZERS_PARALLELISM=(true | false)\n"
     ]
    }
   ],
   "source": [
    "!pip -q install datasets    # Install the datasets package to access the dataset\n",
    "# add the packages you used, and specify the verion you installed\n",
    "\n",
    "# All required import for the assignment.\n",
    "from datasets import load_dataset\n",
    "import numpy as np\n",
    "import nltk\n",
    "\n",
    "from scipy.sparse import hstack\n",
    "from sklearn.feature_extraction.text import CountVectorizer\n",
    "from sklearn.naive_bayes import MultinomialNB\n",
    "from sklearn.metrics import accuracy_score, precision_score, recall_score, confusion_matrix, f1_score\n",
    "\n",
    "import matplotlib.pyplot as plt\n",
    "import seaborn as sns\n",
    "\n",
    "import random\n",
    "import torch\n",
    "import torch.nn as nn\n",
    "import torch.nn.functional as F\n",
    "from torch.utils.data import DataLoader, Dataset\n",
    "\n",
    "from collections import Counter\n",
    "\n",
    "from transformers import AutoTokenizer, AutoModelForSequenceClassification, get_linear_schedule_with_warmup"
   ]
  },
  {
   "cell_type": "code",
   "execution_count": 188,
   "id": "49aa8a33",
   "metadata": {},
   "outputs": [
    {
     "name": "stdout",
     "output_type": "stream",
     "text": [
      "The device is: mps\n"
     ]
    }
   ],
   "source": [
    "'''\n",
    "Selecting the device to run the model on.\n",
    "cuda - Nvidia GPU\n",
    "mps - Apple M1 GPU\n",
    "cpu - CPU of the device\n",
    "'''\n",
    "if torch.cuda.is_available():\n",
    "    DEVICE = torch.device(\"cuda\")\n",
    "elif torch.backends.mps.is_available():\n",
    "    DEVICE = torch.device(\"mps\")\n",
    "else:\n",
    "    DEVICE = torch.device(\"cpu\")\n",
    "\n",
    "\n",
    "print(\"The device is:\", DEVICE)"
   ]
  },
  {
   "cell_type": "code",
   "execution_count": 191,
   "id": "26cf6511",
   "metadata": {},
   "outputs": [
    {
     "data": {
      "text/plain": [
       "<torch._C.Generator at 0x302e46450>"
      ]
     },
     "execution_count": 191,
     "metadata": {},
     "output_type": "execute_result"
    }
   ],
   "source": [
    "# Set random seeds for reproducibility\n",
    "SEED = 7\n",
    "random.seed(SEED)\n",
    "np.random.seed(SEED)\n",
    "torch.manual_seed(SEED)"
   ]
  },
  {
   "cell_type": "code",
   "execution_count": 192,
   "id": "c55f743e",
   "metadata": {},
   "outputs": [],
   "source": [
    "# 1) Load QQP\n",
    "ds = load_dataset(\"glue\", \"qqp\")\n",
    "\n",
    "# Use validation set as our test; optionally create a smaller train subset for speed\n",
    "train_ds = ds[\"train\"]\n",
    "eval_ds  = ds[\"validation\"]\n",
    "\n",
    "q1_tr = list(train_ds[\"question1\"])\n",
    "q2_tr = list(train_ds[\"question2\"])\n",
    "y_tr  = np.array(train_ds[\"label\"])\n",
    "\n",
    "q1_te = list(eval_ds[\"question1\"])\n",
    "q2_te = list(eval_ds[\"question2\"])\n",
    "y_te  = np.array(eval_ds[\"label\"])"
   ]
  },
  {
   "cell_type": "markdown",
   "id": "05743951",
   "metadata": {},
   "source": [
    "### Task 1. What is the top-5 common NOUN in the question1 and question2, respectively? (5 marks)\n",
    "\n",
    "Write codes that returns the top-5 common NOUN in the questions. To find the part of speech, use NLTK's \"Universal\" tag set. You may need to use NLTK's `sent_tokenize` and `word_tokenize` to get words. The function returns a list that is descendingly sorted according to freqency, e.g. [(noun1, 22), (noun2, 10), ...].\n",
    "<!-- To produce the correct results, the function must do this.  -->\n",
    "Hint: The following steps will produce the correct results:\n",
    "\n",
    "- Concatenate all questions together.\n",
    "- Use the NLTK libraries to find the tokens and the stems.\n",
    "- Use NLTK's sentence tokeniser before NLTK's word tokeniser.\n",
    "- Use NLTK's part of speech tagger, using the \"Universal\" tagset.\n",
    "- Use NLTK's `pos_tag_sents` instead of `pos_tag`.\n",
    "\n",
    "Marking Criteria: \n",
    "- 2.5 marks for the correct codes and results of each column, namely question1 and question2 columns.\n",
    "\n",
    "\n"
   ]
  },
  {
   "cell_type": "code",
   "execution_count": 197,
   "id": "efc8fe5d",
   "metadata": {},
   "outputs": [],
   "source": [
    "def get_word_tokens(data):\n",
    "    '''\n",
    "    Tokenizes the input data into word tokens.\n",
    "    Args:\n",
    "        data (list): A list of strings to be tokenized.\n",
    "    Returns:\n",
    "        list: A list of lists, where each sublist contains word tokens of a sentence.\n",
    "\n",
    "    Joins the list of sentences into a single string, then splits it into sentences,\n",
    "    and finally tokenizes each sentence into words.\n",
    "    '''\n",
    "    sep = ' '\n",
    "    joined_data = sep.join(data)\n",
    "    wt = [nltk.word_tokenize(s) for s in nltk.sent_tokenize(joined_data)]\n",
    "    return wt"
   ]
  },
  {
   "cell_type": "code",
   "execution_count": 198,
   "id": "0a2d0eab",
   "metadata": {},
   "outputs": [],
   "source": [
    "# Stemming\n",
    "stemmer = nltk.PorterStemmer()\n",
    "\n",
    "def get_stems(word_tokens):\n",
    "    '''\n",
    "    Stems the word tokens using Porter Stemmer.\n",
    "    Args:\n",
    "        word_tokens (list): A list of lists, where each sublist contains word tokens of a sentence.\n",
    "    Returns:\n",
    "        list: A list of lists, where each sublist contains stemmed word tokens of a sentence.\n",
    "    '''\n",
    "    return [[stemmer.stem(token.lower()) for token in sentence] for sentence in word_tokens]\n"
   ]
  },
  {
   "cell_type": "code",
   "execution_count": null,
   "id": "ed073470",
   "metadata": {},
   "outputs": [],
   "source": [
    "def get_tagged_words(word_token):\n",
    "    '''\n",
    "    Tags the word tokens with their respective parts of speech using \"universal\" tagset.\n",
    "    Args:\n",
    "        word_token (list): A list of lists, where each sublist contains word tokens of a sentence.\n",
    "    Returns:\n",
    "        list: A list of lists, where each sublist contains tuples of word tokens and their POS tags.\n",
    "    '''\n",
    "    tagged_words_list = nltk.pos_tag_sents(word_token, tagset='universal')\n",
    "    return tagged_words_list"
   ]
  },
  {
   "cell_type": "code",
   "execution_count": 200,
   "id": "bb05fa81",
   "metadata": {},
   "outputs": [],
   "source": [
    "def get_most_common_nouns(tagged_words_list, n_top=5):\n",
    "    '''\n",
    "    Finds the most common nouns in the tagged words list.\n",
    "    Args:\n",
    "        tagged_words_list (list): A list of lists, where each sublist contains tuples of word tokens and their POS tags.\n",
    "        n_top (int): The number of most common nouns to return.\n",
    "    Returns:\n",
    "        list: A list of tuples, where each tuple contains a noun and its frequency.\n",
    "    '''\n",
    "    tagged_nouns = [\n",
    "        stemmer.stem(tagged_word[0].lower())\n",
    "        for tagged_words in tagged_words_list\n",
    "        for tagged_word in tagged_words\n",
    "        if tagged_word[1] == 'NOUN'\n",
    "    ]\n",
    "    noun_counter = Counter(tagged_nouns)\n",
    "    return noun_counter.most_common(n_top)\n"
   ]
  },
  {
   "cell_type": "code",
   "execution_count": 201,
   "id": "dfddf5d5",
   "metadata": {},
   "outputs": [],
   "source": [
    "q1_tr_word_token = get_word_tokens(q1_tr)\n",
    "q2_tr_word_token = get_word_tokens(q2_tr)\n",
    "\n",
    "q1_tr_stem_token = get_stems(q1_tr_word_token)\n",
    "q2_tr_stem_token = get_stems(q2_tr_word_token)"
   ]
  },
  {
   "cell_type": "code",
   "execution_count": 202,
   "id": "57ef8822",
   "metadata": {},
   "outputs": [],
   "source": [
    "q1_tr_tagged_words = get_tagged_words(q1_tr_word_token)\n",
    "q2_tr_tagged_words = get_tagged_words(q2_tr_word_token)"
   ]
  },
  {
   "cell_type": "code",
   "execution_count": 203,
   "id": "0659501d",
   "metadata": {},
   "outputs": [
    {
     "name": "stdout",
     "output_type": "stream",
     "text": [
      "Top 5 most common nouns in question1: [('india', 12708), ('peopl', 11507), ('way', 10598), ('differ', 8623), ('quora', 7678)]\n",
      "Top 5 most common nouns in question2: [('india', 13491), ('peopl', 12281), ('way', 11900), ('quora', 7967), ('time', 7579)]\n"
     ]
    }
   ],
   "source": [
    "most_common_nouns_in_q1 = get_most_common_nouns(q1_tr_tagged_words)\n",
    "most_common_nouns_in_q2 = get_most_common_nouns(q2_tr_tagged_words)\n",
    "\n",
    "print('Top 5 most common nouns in question1:', most_common_nouns_in_q1)\n",
    "print('Top 5 most common nouns in question2:', most_common_nouns_in_q2)\n"
   ]
  },
  {
   "cell_type": "markdown",
   "id": "9b5ac4b3",
   "metadata": {},
   "source": [
    "### Task 2. What are the top-5 common stem 2-grams and non-stem 2-grams for question1 and question2, respectively? (5 marks)\n",
    "\n",
    "Write codes that returns the top-5 most frequent 2-grams (bigrams) of stemmed and non-stemmed tokens along with their normalized frequency from the question1 and question2 columns of the QQP dataset. The output should be in descending order of frequency, **with frequencies normalized by the total number of bigrams (rounded to 4 decimal places)**, e.g., `[(('what', 'is'), 0.0105), (('what', 'are'), 0.0053), ...]`.\n",
    "\n",
    "<!-- To produce the correct results, the function must do this: -->\n",
    "\n",
    "Hint: The following steps will produce the correct results:\n",
    "\n",
    "- Concatenate all questions together.\n",
    "- Use NLTK's sentence tokeniser before NLTK's word tokeniser.\n",
    "- Use the NLTK libraries to find the tokens and the stems.\n",
    "- Use NLTK's Porter stemmer to get the root words.\n",
    "- Round normalized frequency to 4 precision after the decimal point.\n",
    "- When computing bigrams, do not consider words that are in different sentences. For example, if we have this text: `Sentence 1. And sentence 2.` the bigrams are: `('Sentence','1'), ('1','.'), ('.','And'), ('And','sentence')`, etc. Note that the following would not be a valid bigram, since the punctuation mark and the word \"And\" are in different sentences: `('.','And')`.\n",
    "\n",
    "Marking Criteria: \n",
    "- 2.5 marks for the correct codes and restuls of each column, namely question1 and question2 columns."
   ]
  },
  {
   "cell_type": "code",
   "execution_count": null,
   "id": "fac4d871",
   "metadata": {},
   "outputs": [],
   "source": [
    "def get_top_bigrams(token_sequences, top_n=5):\n",
    "    '''\n",
    "    Computes the top N most common bigrams from the token sequences.\n",
    "    Args:\n",
    "        token_sequences (list): A list of lists, where each sublist contains word tokens of a sentence.\n",
    "        top_n (int): The number of most common bigrams to return.\n",
    "    Returns:\n",
    "        list: A list of tuples, where each tuple contains a bigram (as a tuple of two words) and its relative frequency.\n",
    "    '''\n",
    "\n",
    "    bigram_counts = Counter()\n",
    "    total_bigrams = 0\n",
    "    for sentence in token_sequences:\n",
    "        if not sentence:\n",
    "            continue\n",
    "        normalized_tokens = [token.lower() for token in sentence]\n",
    "        sentence_bigrams = list(nltk.bigrams(normalized_tokens))\n",
    "        if not sentence_bigrams:\n",
    "            continue\n",
    "        bigram_counts.update(sentence_bigrams)\n",
    "        total_bigrams += len(sentence_bigrams)\n",
    "    if total_bigrams == 0:\n",
    "        return []\n",
    "    return [\n",
    "        (bigram, round(count / total_bigrams, 4))\n",
    "        for bigram, count in bigram_counts.most_common(top_n)\n",
    "    ]\n"
   ]
  },
  {
   "cell_type": "markdown",
   "id": "7c2c61e8",
   "metadata": {},
   "source": [
    "We reuse the cached token lists to compute stemmed and non-stemmed bigram statistics for each question column, then print them in descending order as required.\n"
   ]
  },
  {
   "cell_type": "code",
   "execution_count": 13,
   "id": "0832480b",
   "metadata": {},
   "outputs": [
    {
     "name": "stdout",
     "output_type": "stream",
     "text": [
      "Question1 top-5 non-stem bigrams: [(('what', 'is'), 0.0128), (('is', 'the'), 0.0112), (('what', 'are'), 0.0102), (('how', 'do'), 0.0084), (('can', 'i'), 0.0067)]\n",
      "Question1 top-5 stem bigrams: [(('what', 'is'), 0.0128), (('is', 'the'), 0.0112), (('what', 'are'), 0.0102), (('how', 'do'), 0.0084), (('can', 'i'), 0.0067)]\n",
      "Question2 top-5 non-stem bigrams: [(('what', 'is'), 0.0123), (('is', 'the'), 0.0108), (('what', 'are'), 0.0098), (('how', 'do'), 0.0085), (('can', 'i'), 0.0068)]\n",
      "Question2 top-5 stem bigrams: [(('what', 'is'), 0.0123), (('is', 'the'), 0.0108), (('what', 'are'), 0.0098), (('how', 'do'), 0.0085), (('can', 'i'), 0.0068)]\n"
     ]
    }
   ],
   "source": [
    "q1_top_bigrams = get_top_bigrams(q1_tr_word_token)\n",
    "q1_top_stem_bigrams = get_top_bigrams(q1_tr_stem_token)\n",
    "q2_top_bigrams = get_top_bigrams(q2_tr_word_token)\n",
    "q2_top_stem_bigrams = get_top_bigrams(q2_tr_stem_token)\n",
    "\n",
    "print('Question1 top-5 non-stem bigrams:', q1_top_bigrams)\n",
    "print('Question1 top-5 stem bigrams:', q1_top_stem_bigrams)\n",
    "print('Question2 top-5 non-stem bigrams:', q2_top_bigrams)\n",
    "print('Question2 top-5 stem bigrams:', q2_top_stem_bigrams)\n"
   ]
  },
  {
   "cell_type": "markdown",
   "id": "1936c3bf",
   "metadata": {},
   "source": [
    "### Task 3. Naïve Bayes Classifier (5.5 marks)\n",
    "\n",
    "The QQR dataset contains pairs of questions with labels indicating whether the two questions are semantically duplicate (1) or not (0).\n",
    "\n",
    "1. Using a Bag-of-Words representation, train a Naïve Bayes classifier to predict duplicates. (2 marks)\n",
    "\n",
    "1. Report accuracy, precision, and recall on the test set. (1.5 marks)\n",
    "\n",
    "1. Inspect your confusion matrix. Identify one type of error (false positive or false negative) that dominates. Suggest a possible reason for this pattern based on the dataset. (2 mark)"
   ]
  },
  {
   "cell_type": "markdown",
   "id": "76b9ee61",
   "metadata": {},
   "source": [
    "To keep every model comparable and quick to run locally, we cap the QQP dataset to 1k training and 100 validation examples. The same slice is reused across Tasks 3-5 per the assignment instructions.\n"
   ]
  },
  {
   "cell_type": "code",
   "execution_count": 4,
   "id": "880092f0",
   "metadata": {},
   "outputs": [],
   "source": [
    "# From now on, you are allowed to use a subset of the dataset which requires less computing resources.\n",
    "# Note that you have to use the same subset for the following coding tasks, which ensure fairness when comparing performance across different models.\n",
    "\n",
    "Ntrain = 1000\n",
    "Ntest = 100\n",
    "ds = load_dataset(\"glue\", \"qqp\")\n",
    "\n",
    "# Use validation set as our test; optionally create a smaller train subset for speed\n",
    "train_ds = ds[\"train\"].select(range(Ntrain))\n",
    "eval_ds  = ds[\"validation\"].select(range(Ntest))"
   ]
  },
  {
   "cell_type": "markdown",
   "id": "4733ee94",
   "metadata": {},
   "source": [
    "This block builds a bag-of-words representation for both questions, fits the Naïve Bayes classifier, and records the metrics we will later compare against neural models.\n"
   ]
  },
  {
   "cell_type": "code",
   "execution_count": 5,
   "id": "73d8e9c7",
   "metadata": {},
   "outputs": [
    {
     "name": "stdout",
     "output_type": "stream",
     "text": [
      "Training accuracy (Ntrain=1000): 0.9800\n",
      "Test accuracy: 0.7400\n",
      "Precision: 0.6250\n",
      "Recall: 0.3333\n",
      "Confusion matrix: [[64  6]\n",
      " [20 10]]\n",
      "Dominant error type: false negatives (FP=6, FN=20). Duplicates with different wording slip through the bag-of-words features.\n"
     ]
    }
   ],
   "source": [
    "# Reuse the QQP validation slice as our fixed test set\n",
    "q1_test = list(eval_ds['question1'])\n",
    "q2_test = list(eval_ds['question2'])\n",
    "y_test = np.array(eval_ds['label'])\n",
    "\n",
    "# Use the entire training set for fitting\n",
    "q1_train = list(train_ds['question1'])\n",
    "q2_train = list(train_ds['question2'])\n",
    "y_train = np.array(train_ds['label'])\n",
    "\n",
    "vectorizer = CountVectorizer(max_features=5000, ngram_range=(1, 2))\n",
    "vectorizer.fit(q1_train + q2_train)\n",
    "\n",
    "X_train = hstack([\n",
    "    vectorizer.transform(q1_train),\n",
    "    vectorizer.transform(q2_train),\n",
    "])\n",
    "X_test = hstack([\n",
    "    vectorizer.transform(q1_test),\n",
    "    vectorizer.transform(q2_test),\n",
    "])\n",
    "\n",
    "clf = MultinomialNB()\n",
    "clf.fit(X_train, y_train)\n",
    "\n",
    "train_predictions = clf.predict(X_train)\n",
    "nb_train_accuracy = accuracy_score(y_train, train_predictions)\n",
    "test_predictions = clf.predict(X_test)\n",
    "\n",
    "nb_vectorizer = vectorizer\n",
    "nb_clf = clf\n",
    "nb_preds = test_predictions\n",
    "\n",
    "nb_accuracy = accuracy_score(y_test, test_predictions)\n",
    "nb_precision = precision_score(y_test, test_predictions, zero_division=0)\n",
    "nb_recall = recall_score(y_test, test_predictions, zero_division=0)\n",
    "nb_confusion = confusion_matrix(y_test, test_predictions)\n",
    "\n",
    "print(f\"Training accuracy (Ntrain={Ntrain}): {nb_train_accuracy:.4f}\")\n",
    "print(f\"Test accuracy: {nb_accuracy:.4f}\")\n",
    "print(f\"Precision: {nb_precision:.4f}\")\n",
    "print(f\"Recall: {nb_recall:.4f}\")\n",
    "print('Confusion matrix:', nb_confusion)\n",
    "\n",
    "fp, fn = nb_confusion[0, 1], nb_confusion[1, 0]\n",
    "if fn > fp:\n",
    "    dominant_error = 'false negatives'\n",
    "    explanation = 'Duplicates with different wording slip through the bag-of-words features.'\n",
    "elif fp > fn:\n",
    "    dominant_error = 'false positives'\n",
    "    explanation = 'Different questions that share surface words are mistaken as duplicates.'\n",
    "else:\n",
    "    dominant_error = 'balanced'\n",
    "    explanation = 'False positives and false negatives occur at similar rates.'\n",
    "\n",
    "print(f\"Dominant error type: {dominant_error} (FP={fp}, FN={fn}). {explanation}\")\n"
   ]
  },
  {
   "cell_type": "markdown",
   "id": "4c88970f",
   "metadata": {},
   "source": [
    "Visualising the confusion matrix helps explain whether false positives or false negatives dominate, addressing the error-analysis requirement for Task 3.\n"
   ]
  },
  {
   "cell_type": "code",
   "execution_count": 6,
   "id": "6c15d52a",
   "metadata": {},
   "outputs": [
    {
     "data": {
      "image/png": "[encoded data removed]",
      "text/plain": [
       "<Figure size 500x500 with 2 Axes>"
      ]
     },
     "metadata": {},
     "output_type": "display_data"
    }
   ],
   "source": [
    "# Task 3: Visualise Naïve Bayes confusion matrix\n",
    "plt.figure(figsize=(5, 5))\n",
    "class_labels = ['Non-duplicate', 'Duplicate']\n",
    "sns.heatmap(\n",
    "    nb_confusion, annot=True, fmt='d', cmap='Blues',\n",
    "    xticklabels=class_labels, yticklabels=class_labels\n",
    ")\n",
    "plt.xlabel('Predicted label')\n",
    "plt.ylabel('True label')\n",
    "plt.title('Naïve Bayes Confusion Matrix')\n",
    "plt.tight_layout()\n",
    "plt.show()\n"
   ]
  },
  {
   "cell_type": "markdown",
   "id": "9cbf16e2",
   "metadata": {},
   "source": [
    "### Task 4. Siamese Neural Network (7 marks)\n",
    "\n",
    "You now want to learn semantic similarity directly from the question pairs.\n",
    "\n",
    "1. Design a Siamese Neural Network with two identical LSTM encoders that embed each question. (3 marks)\n",
    "\n",
    "1. Use cosine similarity to classify duplicates, and report accuracy and F1-score. (2 marks)\n",
    "\n",
    "1. Compare your Siamese model to your Naïve Bayes model. Which one handles imbalanced errors (precision vs. recall) better in your results, and why do you think that is? (2 marks)"
   ]
  },
  {
   "cell_type": "markdown",
   "id": "f907f5c0",
   "metadata": {},
   "source": [
    "For the Siamese network we set up a shared tokenizer and hyperparameters that mirror the practical, ensuring both question branches see consistent input lengths and embedding sizes.\n"
   ]
  },
  {
   "cell_type": "code",
   "execution_count": 158,
   "id": "63294c06",
   "metadata": {},
   "outputs": [],
   "source": [
    "from transformers import BertTokenizer\n",
    "\n",
    "# --- Tokenizer ---\n",
    "TOKENIZER_NAME = \"bert-base-uncased\"\n",
    "TOKENIZER = BertTokenizer.from_pretrained(TOKENIZER_NAME)\n",
    "VOCAB_SIZE = TOKENIZER.vocab_size\n",
    "PAD_TOKEN_ID = TOKENIZER.pad_token_id\n",
    "\n",
    "# --- parameters ---\n",
    "MAX_LEN = 80\n",
    "EMBED_SIZE = 256\n",
    "LSTM_UNITS = 256\n",
    "BATCH_SIZE = 25\n",
    "N_EPOCHS = 5\n",
    "LEARNING_RATE = 1e-3\n",
    "MARGIN = 1.0\n",
    "DROPOUT = 0.1"
   ]
  },
  {
   "cell_type": "markdown",
   "id": "aecec8ab",
   "metadata": {},
   "source": [
    "The custom dataset prepares paired tensors for each question. Packaging both questions together keeps the training loop simple and guarantees the Siamese encoders receive identical preprocessing.\n"
   ]
  },
  {
   "cell_type": "code",
   "execution_count": 134,
   "id": "ee5d377c",
   "metadata": {},
   "outputs": [],
   "source": [
    "class SiameseDataset(Dataset):\n",
    "    # Dataset matches the practical: returns token ids and label per pair\n",
    "    def __init__(self, sents1, sents2, labels, tokenizer, max_len):\n",
    "        self.sents1 = sents1\n",
    "        self.sents2 = sents2\n",
    "        self.labels = labels\n",
    "        self.tokenizer = tokenizer\n",
    "        self.max_len = max_len\n",
    "\n",
    "    def __len__(self):\n",
    "        return len(self.labels)\n",
    "\n",
    "    def __getitem__(self, idx):\n",
    "        q1_text = str(self.sents1[idx])\n",
    "        q2_text = str(self.sents2[idx])\n",
    "        label = self.labels[idx]\n",
    "\n",
    "        encoded1 = self.tokenizer.encode_plus(\n",
    "            q1_text,\n",
    "            add_special_tokens=True,\n",
    "            max_length=self.max_len,\n",
    "            padding='max_length',\n",
    "            truncation=True,\n",
    "            return_attention_mask=True,\n",
    "            return_tensors='pt'\n",
    "        )\n",
    "        encoded2 = self.tokenizer.encode_plus(\n",
    "            q2_text,\n",
    "            add_special_tokens=True,\n",
    "            max_length=self.max_len,\n",
    "            padding='max_length',\n",
    "            truncation=True,\n",
    "            return_attention_mask=True,\n",
    "            return_tensors='pt'\n",
    "        )\n",
    "\n",
    "        return {\n",
    "            'ids1': encoded1['input_ids'].flatten(),\n",
    "            'ids2': encoded2['input_ids'].flatten(),\n",
    "            'labels': torch.tensor(label, dtype=torch.float),\n",
    "        }\n"
   ]
  },
  {
   "cell_type": "markdown",
   "id": "6ef44e8a",
   "metadata": {},
   "source": [
    "Our Siamese model shares an embedding + LSTM encoder between the two questions, then scores their cosine similarity through a small classifier head to produce logits for duplicate prediction.\n"
   ]
  },
  {
   "cell_type": "code",
   "execution_count": 147,
   "id": "557ebb9e",
   "metadata": {},
   "outputs": [],
   "source": [
    "# Requirement 1: Siamese architecture with shared LSTM encoders\n",
    "class SiameseNetwork(nn.Module):\n",
    "    # Shared bidirectional LSTM encodes both questions with identical weights\n",
    "    def __init__(self, vocab_size=VOCAB_SIZE, pad_idx=PAD_TOKEN_ID, embed_dim=EMBED_SIZE, hidden_size=LSTM_UNITS, dropout=DROPOUT):\n",
    "        super().__init__()\n",
    "        self.embedding = nn.Embedding(vocab_size, embed_dim, padding_idx=pad_idx)\n",
    "        self.lstm = nn.LSTM(embed_dim, hidden_size, batch_first=True, bidirectional=False)\n",
    "        self.dropout = nn.Dropout(dropout)\n",
    "\n",
    "        self.classifier = nn.Sequential(\n",
    "            nn.Linear(1, 16),\n",
    "            nn.ReLU(),\n",
    "            nn.Linear(16, 1)\n",
    "        )\n",
    "\n",
    "    def forward_once(self, tokens):\n",
    "        embedded = self.embedding(tokens)\n",
    "        _, (hidden, _) = self.lstm(embedded)\n",
    "        return self.dropout(hidden[0])\n",
    "        \n",
    "\n",
    "    def forward(self, q1, q2):\n",
    "        h1 = self.forward_once(q1)\n",
    "        h2 = self.forward_once(q2)\n",
    "        cosine = F.cosine_similarity(h1, h2, dim=1).unsqueeze(-1)\n",
    "        logits = self.classifier(cosine).squeeze(-1)\n",
    "        return logits\n",
    "\n"
   ]
  },
  {
   "cell_type": "markdown",
   "id": "970b5dde",
   "metadata": {},
   "source": [
    "Training and evaluation helpers encapsulate the optimisation loop. Keeping these utilities separate from the cell that instantiates the model keeps the notebook tidy and highlights the workflow steps.\n"
   ]
  },
  {
   "cell_type": "code",
   "execution_count": 136,
   "id": "257b8b3d",
   "metadata": {},
   "outputs": [],
   "source": [
    "def train_epoch(model, loader, optimiser, criterion, device):\n",
    "    # End-to-end optimisation keeps gradients flowing into the shared encoder, unlike the two-stage practical\n",
    "    model.train()\n",
    "    total_loss = 0.0\n",
    "    for batch in loader:\n",
    "        ids1 = batch['ids1'].to(device)\n",
    "        ids2 = batch['ids2'].to(device)\n",
    "        labels = batch['labels'].float().to(device)\n",
    "\n",
    "        optimiser.zero_grad()\n",
    "        logits = model(ids1, ids2)\n",
    "        loss = criterion(logits, labels)\n",
    "        loss.backward()\n",
    "        optimiser.step()\n",
    "        total_loss += loss.item()\n",
    "    return total_loss / len(loader)\n",
    "\n"
   ]
  },
  {
   "cell_type": "code",
   "execution_count": 137,
   "id": "bb07fdcf",
   "metadata": {},
   "outputs": [],
   "source": [
    "\n",
    "def evaluate(model, loader, criterion, device):\n",
    "    model.eval()\n",
    "    total_loss = 0.0\n",
    "    all_probs, all_labels = [], []\n",
    "    with torch.no_grad():\n",
    "        # Evaluation converts logits to probabilities to compute threshold-based metrics\n",
    "        for batch in loader:\n",
    "            ids1 = batch['ids1'].to(device)\n",
    "            ids2 = batch['ids2'].to(device)\n",
    "            labels = batch['labels'].float().to(device)\n",
    "\n",
    "            logits = model(ids1, ids2)\n",
    "            loss = criterion(logits, labels)\n",
    "\n",
    "            total_loss += loss.item()\n",
    "\n",
    "            probs = torch.sigmoid(logits)\n",
    "\n",
    "            \n",
    "            all_probs.extend(probs.cpu().numpy().tolist())\n",
    "            all_labels.extend(labels.cpu().numpy().tolist())\n",
    "\n",
    "    preds = (np.array(all_probs) >= 0.5).astype(float)\n",
    "    labels_np = np.array(all_labels)\n",
    "\n",
    "    print('preds === ', preds)\n",
    "    print('lablessfasd === ', labels_np)\n",
    "\n",
    "    accuracy = accuracy_score(labels_np, preds)\n",
    "    precision = precision_score(labels_np, preds, zero_division=0)\n",
    "    recall = recall_score(labels_np, preds, zero_division=0)\n",
    "    f1 = f1_score(labels_np, preds, zero_division=0)\n",
    "    return total_loss / len(loader), accuracy, precision, recall, f1\n"
   ]
  },
  {
   "cell_type": "markdown",
   "id": "c0c150bb",
   "metadata": {},
   "source": [
    "Here we wrap the dataset objects in PyTorch DataLoaders so batching and shuffling match the expectations of the training helpers.\n"
   ]
  },
  {
   "cell_type": "code",
   "execution_count": 138,
   "id": "430dc920",
   "metadata": {},
   "outputs": [],
   "source": [
    "train_dataset = SiameseDataset(train_ds['question1'], train_ds['question2'], train_ds['label'], TOKENIZER, MAX_LEN)\n",
    "test_dataset = SiameseDataset(eval_ds['question1'], eval_ds['question2'], eval_ds['label'], TOKENIZER, MAX_LEN)\n",
    "\n",
    "train_loader = DataLoader(train_dataset, batch_size=BATCH_SIZE, shuffle=True)\n",
    "test_loader = DataLoader(test_dataset, batch_size=BATCH_SIZE)"
   ]
  },
  {
   "cell_type": "markdown",
   "id": "d7c7e522",
   "metadata": {},
   "source": [
    "This cell runs the Siamese training loop, reporting loss per epoch so we can confirm the model is learning before evaluating it.\n"
   ]
  },
  {
   "cell_type": "code",
   "execution_count": null,
   "id": "125327f8",
   "metadata": {},
   "outputs": [
    {
     "name": "stdout",
     "output_type": "stream",
     "text": [
      "Epoch 1: train loss=0.7163\n",
      "Epoch 2: train loss=0.6796\n",
      "Epoch 3: train loss=0.6601\n",
      "Epoch 4: train loss=0.6525\n",
      "Epoch 5: train loss=0.6500\n"
     ]
    }
   ],
   "source": [
    "# Task 4: Siamese LSTM with cosine head (Practical 10.2-inspired)\n",
    "\n",
    "model = SiameseNetwork().to(DEVICE)\n",
    "optimiser = torch.optim.Adam(model.parameters(), lr=LEARNING_RATE)\n",
    "criterion = nn.BCEWithLogitsLoss()\n",
    "\n",
    "for epoch in range(1, N_EPOCHS + 1):\n",
    "    train_loss = train_epoch(model, train_loader, optimiser, criterion, DEVICE)\n",
    "    print(f'Epoch {epoch}: train loss={train_loss:.4f}')\n",
    "    "
   ]
  },
  {
   "cell_type": "markdown",
   "id": "ab7766ee",
   "metadata": {},
   "source": [
    "After training we compute accuracy, precision, recall, and F1 to satisfy Task 4's reporting requirement.\n"
   ]
  },
  {
   "cell_type": "code",
   "execution_count": null,
   "id": "1a6d935b",
   "metadata": {},
   "outputs": [
    {
     "name": "stdout",
     "output_type": "stream",
     "text": [
      "preds ===  [0. 0. 0. 0. 0. 0. 0. 0. 0. 0. 0. 0. 0. 0. 0. 0. 0. 0. 0. 0. 0. 0. 0. 0.\n",
      " 0. 0. 0. 0. 0. 0. 0. 0. 0. 0. 0. 0. 0. 0. 0. 0. 0. 0. 0. 0. 0. 0. 0. 0.\n",
      " 0. 0. 0. 0. 0. 0. 0. 0. 0. 0. 0. 0. 0. 0. 0. 0. 0. 0. 0. 0. 0. 0. 0. 0.\n",
      " 0. 0. 0. 0. 0. 0. 0. 0. 0. 0. 0. 0. 0. 0. 0. 0. 0. 0. 0. 0. 0. 0. 0. 0.\n",
      " 0. 0. 0. 0.]\n",
      "lablessfasd ===  [0. 0. 1. 0. 0. 1. 1. 1. 0. 0. 0. 0. 1. 0. 0. 1. 1. 0. 0. 1. 0. 1. 0. 0.\n",
      " 0. 0. 0. 0. 0. 0. 1. 0. 0. 1. 0. 0. 0. 0. 1. 0. 0. 0. 1. 0. 0. 1. 1. 1.\n",
      " 1. 1. 0. 1. 0. 0. 1. 0. 0. 0. 0. 1. 0. 1. 0. 0. 0. 0. 0. 0. 0. 0. 1. 0.\n",
      " 0. 0. 0. 0. 0. 0. 0. 0. 0. 1. 0. 1. 0. 1. 0. 0. 0. 0. 0. 0. 1. 1. 1. 0.\n",
      " 0. 0. 1. 0.]\n",
      "Accuracy: 0.7000\n",
      "Precision: 0.0000\n",
      "Recall: 0.0000\n",
      "F1 score: 0.0000\n"
     ]
    }
   ],
   "source": [
    "# Requirement 2: Cosine similarity head provides logits for metrics\n",
    "\n",
    "test_loss, siamese_accuracy, siamese_precision, siamese_recall, siamese_f1 = evaluate(\n",
    "# Final metrics feed the comparison cell and satisfy Task 4 reporting requirements\n",
    "    model, test_loader, criterion, DEVICE\n",
    ")\n",
    "\n",
    "print(f'Accuracy: {siamese_accuracy:.4f}')\n",
    "print(f'Precision: {siamese_precision:.4f}')\n",
    "print(f'Recall: {siamese_recall:.4f}')\n",
    "print(f'F1 score: {siamese_f1:.4f}')"
   ]
  },
  {
   "cell_type": "markdown",
   "id": "8cb3d89a",
   "metadata": {},
   "source": [
    "Finally we compare the Siamese metrics against the Naïve Bayes baseline to discuss how each model handles the precision/recall trade-off.\n"
   ]
  },
  {
   "cell_type": "code",
   "execution_count": 161,
   "id": "4e7c7efb",
   "metadata": {},
   "outputs": [
    {
     "name": "stdout",
     "output_type": "stream",
     "text": [
      "Naïve Bayes test accuracy: 0.7400\n",
      "Siamese accuracy: 0.7000, precision: 0.0000, recall: 0.0000, F1: 0.0000\n",
      "Siamese model maintains higher precision but misses more paraphrases than Naïve Bayes.\n"
     ]
    }
   ],
   "source": [
    "# Task 4: Quick comparison to Naïve Bayes baseline\n",
    "# Requirement 3: Compare Siamese metrics against Naive Bayes baseline\n",
    "# We contrast both models to explain precision/recall trade-offs, per assignment prompt\n",
    "print(f\"Naïve Bayes test accuracy: {nb_accuracy:.4f}\")\n",
    "print(f\"Siamese accuracy: {siamese_accuracy:.4f}, precision: {siamese_precision:.4f}, recall: {siamese_recall:.4f}, F1: {siamese_f1:.4f}\")\n",
    "if siamese_recall > nb_recall:\n",
    "    print('Siamese model recovers more paraphrases (higher recall) than Naïve Bayes, at the cost of precision.')\n",
    "else:\n",
    "    print('Siamese model maintains higher precision but misses more paraphrases than Naïve Bayes.')\n"
   ]
  },
  {
   "cell_type": "code",
   "execution_count": null,
   "id": "613a7c89",
   "metadata": {},
   "outputs": [],
   "source": []
  },
  {
   "cell_type": "markdown",
   "id": "36cf68de",
   "metadata": {},
   "source": [
    "### Task 5. Transformer-Based Classifier (10 marks)\n",
    "\n",
    "Instead of handcrafted features or LSTMs, you now fine-tune a pre-trained Transformer (e.g., BERT or RoBERTa, etc) for QQP.\n",
    "\n",
    "1. Fine-tune the model for 3 epochs with learning rate 2e-5. (3 marks)\n",
    "\n",
    "1. Report the accuracy, precision, recall, and F1-score. (2 marks)\n",
    "\n",
    "1. Compare your Transformer results with your Siamese model. Did the Transformer improve both precision and recall, or mainly one? What does this suggest about how it captures question meaning? (2 marks)\n",
    "\n",
    "1. Look at one example your Transformer misclassified. Write a short explanation of why the model might have made this mistake. (3 marks)"
   ]
  },
  {
   "cell_type": "markdown",
   "id": "c9d321ec",
   "metadata": {},
   "source": [
    "Task 5 switches to a Transformer encoder. We load the pretrained BERT tokenizer and record the fine-tuning hyperparameters specified in the brief.\n"
   ]
  },
  {
   "cell_type": "code",
   "execution_count": null,
   "id": "9eef4aa6",
   "metadata": {},
   "outputs": [],
   "source": [
    "TRANSFORMER_MODEL_NAME = 'bert-base-uncased'\n",
    "TRANSFORMER_EPOCHS = 3\n",
    "TRANSFORMER_LR = 2e-5\n",
    "TRANSFORMER_BATCH_SIZE = 16\n",
    "TRANSFORMER_MAX_LEN = 128\n",
    "\n",
    "transformer_tokenizer = AutoTokenizer.from_pretrained(TRANSFORMER_MODEL_NAME)\n",
    "\n"
   ]
  },
  {
   "cell_type": "markdown",
   "id": "7f420197",
   "metadata": {},
   "source": [
    "Next we map the QQP subset through the tokenizer, keeping text copies for later error analysis while formatting tensors for PyTorch.\n"
   ]
  },
  {
   "cell_type": "code",
   "execution_count": 178,
   "id": "2c148f4a",
   "metadata": {},
   "outputs": [],
   "source": [
    "def tokenize_transformer(batch):\n",
    "    return transformer_tokenizer(\n",
    "        batch['question1'],\n",
    "        batch['question2'],\n",
    "        padding='max_length',\n",
    "        truncation=True,\n",
    "        max_length=TRANSFORMER_MAX_LEN,\n",
    "    )\n",
    "\n",
    "val_text_pairs = list(zip(eval_ds['question1'], eval_ds['question2']))\n",
    "\n",
    "tokenized_train = train_ds.map(\n",
    "    tokenize_transformer,\n",
    "    batched=True,\n",
    "    remove_columns=['question1', 'question2', 'idx'],\n",
    ")\n",
    "tokenized_eval = eval_ds.map(\n",
    "    tokenize_transformer,\n",
    "    batched=True,\n",
    "    remove_columns=['question1', 'question2', 'idx'],\n",
    ")\n",
    "\n",
    "tokenized_train = tokenized_train.rename_column('label', 'labels')\n",
    "tokenized_eval = tokenized_eval.rename_column('label', 'labels')\n",
    "\n",
    "model_input_cols = ['input_ids', 'attention_mask', 'labels']\n",
    "if 'token_type_ids' in tokenized_train.features:\n",
    "    model_input_cols.insert(2, 'token_type_ids')\n",
    "\n",
    "tokenized_train.set_format(type='torch', columns=model_input_cols)\n",
    "tokenized_eval.set_format(type='torch', columns=model_input_cols)\n",
    "\n"
   ]
  },
  {
   "cell_type": "markdown",
   "id": "69396c95",
   "metadata": {},
   "source": [
    "We wrap the tokenised datasets in DataLoaders and instantiate the classification head from the pretrained BERT checkpoint, wiring up the AdamW optimiser and linear schedule required for stable fine-tuning.\n"
   ]
  },
  {
   "cell_type": "code",
   "execution_count": null,
   "id": "72dce015",
   "metadata": {},
   "outputs": [
    {
     "name": "stderr",
     "output_type": "stream",
     "text": [
      "Some weights of BertForSequenceClassification were not initialized from the model checkpoint at bert-base-uncased and are newly initialized: ['classifier.bias', 'classifier.weight']\n",
      "You should probably TRAIN this model on a down-stream task to be able to use it for predictions and inference.\n"
     ]
    }
   ],
   "source": [
    "train_loader = DataLoader(tokenized_train, batch_size=TRANSFORMER_BATCH_SIZE, shuffle=True)\n",
    "eval_loader = DataLoader(tokenized_eval, batch_size=TRANSFORMER_BATCH_SIZE)\n",
    "transformer_model = AutoModelForSequenceClassification.from_pretrained(\n",
    "    TRANSFORMER_MODEL_NAME,\n",
    "    num_labels=2,\n",
    ").to(DEVICE)\n",
    "optimizer = torch.optim.AdamW(transformer_model.parameters(), lr=TRANSFORMER_LR)\n",
    "total_training_steps = len(train_loader) * TRANSFORMER_EPOCHS\n",
    "scheduler = get_linear_schedule_with_warmup(\n",
    "    optimizer,\n",
    "    num_warmup_steps=max(1, int(0.1 * total_training_steps)),\n",
    "    num_training_steps=total_training_steps,\n",
    ")\n"
   ]
  },
  {
   "cell_type": "markdown",
   "id": "3fba680e",
   "metadata": {},
   "source": [
    "This training loop fine-tunes BERT for exactly three epochs, echoing the assignment specification and letting us monitor convergence via the average loss.\n"
   ]
  },
  {
   "cell_type": "code",
   "execution_count": 180,
   "id": "6548daea",
   "metadata": {},
   "outputs": [
    {
     "name": "stdout",
     "output_type": "stream",
     "text": [
      "Epoch 1/3 - loss: 0.6370\n",
      "Epoch 2/3 - loss: 0.4634\n",
      "Epoch 3/3 - loss: 0.3241\n"
     ]
    }
   ],
   "source": [
    "for epoch in range(1, TRANSFORMER_EPOCHS + 1):\n",
    "    transformer_model.train()\n",
    "    epoch_loss = 0.0\n",
    "    for batch in train_loader:\n",
    "        batch = {key: value.to(DEVICE) for key, value in batch.items()}\n",
    "        outputs = transformer_model(**batch)\n",
    "        loss = outputs.loss\n",
    "        loss.backward()\n",
    "        optimizer.step()\n",
    "        scheduler.step()\n",
    "        optimizer.zero_grad()\n",
    "        epoch_loss += loss.item()\n",
    "    avg_epoch_loss = epoch_loss / len(train_loader)\n",
    "    print(f'Epoch {epoch}/{TRANSFORMER_EPOCHS} - loss: {avg_epoch_loss:.4f}')\n",
    "\n"
   ]
  },
  {
   "cell_type": "markdown",
   "id": "b720434d",
   "metadata": {},
   "source": [
    "The evaluation cell gathers the required metrics, contrasts them with the Siamese results when available, and logs the first misclassified pair alongside a short explanation of the error.\n"
   ]
  },
  {
   "cell_type": "code",
   "execution_count": 181,
   "id": "a301dc96",
   "metadata": {},
   "outputs": [
    {
     "name": "stdout",
     "output_type": "stream",
     "text": [
      "Transformer accuracy: 0.7700\n",
      "Transformer precision: 0.6207\n",
      "Transformer recall: 0.6000\n",
      "Transformer F1 score: 0.6102\n",
      "Siamese precision: 0.0000, recall: 0.0000\n",
      "Transformer improves both precision and recall, indicating stronger capture of question meaning.\n",
      "Misclassified example:\n",
      "Question 1: What are some good baby girl names starting with D?\n",
      "Question 2: What are some good baby girl names starting with D or H?\n",
      "True label: 0 - Predicted: 1\n",
      "Possible reason: The questions share almost all tokens, so the model fixates on lexical overlap and misses that the second query broadens to names starting with D or H, turning the pair into a near-duplicate despite different intent.\n"
     ]
    }
   ],
   "source": [
    "transformer_model.eval()\n",
    "all_preds, all_labels = [], []\n",
    "misclassified_idx = None\n",
    "misclassified_pred = None\n",
    "misclassified_true = None\n",
    "example_idx = 0\n",
    "\n",
    "default_eval_loss = 0.0\n",
    "with torch.no_grad():\n",
    "    for batch in eval_loader:\n",
    "        labels = batch['labels']\n",
    "        batch_on_device = {key: value.to(DEVICE) for key, value in batch.items()}\n",
    "        outputs = transformer_model(**batch_on_device)\n",
    "        default_eval_loss += outputs.loss.item()\n",
    "        batch_preds = torch.argmax(outputs.logits, dim=-1).cpu().numpy()\n",
    "        labels_np = labels.numpy()\n",
    "        all_preds.extend(batch_preds.tolist())\n",
    "        all_labels.extend(labels_np.tolist())\n",
    "        for pred, true in zip(batch_preds, labels_np):\n",
    "            if misclassified_idx is None and pred != true:\n",
    "                misclassified_idx = example_idx\n",
    "                misclassified_pred = int(pred)\n",
    "                misclassified_true = int(true)\n",
    "            example_idx += 1\n",
    "\n",
    "transformer_accuracy = accuracy_score(all_labels, all_preds)\n",
    "transformer_precision = precision_score(all_labels, all_preds, zero_division=0)\n",
    "transformer_recall = recall_score(all_labels, all_preds, zero_division=0)\n",
    "transformer_f1 = f1_score(all_labels, all_preds, zero_division=0)\n",
    "\n",
    "print(f'Transformer accuracy: {transformer_accuracy:.4f}')\n",
    "print(f'Transformer precision: {transformer_precision:.4f}')\n",
    "print(f'Transformer recall: {transformer_recall:.4f}')\n",
    "print(f'Transformer F1 score: {transformer_f1:.4f}')\n",
    "\n",
    "siamese_precision_val = globals().get('siamese_precision')\n",
    "siamese_recall_val = globals().get('siamese_recall')\n",
    "if siamese_precision_val is not None and siamese_recall_val is not None:\n",
    "    print(f'Siamese precision: {siamese_precision_val:.4f}, recall: {siamese_recall_val:.4f}')\n",
    "    precision_delta = transformer_precision - siamese_precision_val\n",
    "    recall_delta = transformer_recall - siamese_recall_val\n",
    "    if precision_delta >= 0 and recall_delta >= 0:\n",
    "        comparison_msg = 'Transformer improves both precision and recall, indicating stronger capture of question meaning.'\n",
    "    elif precision_delta >= 0 > recall_delta:\n",
    "        comparison_msg = 'Transformer improves precision but lowers recall, suggesting stricter duplicate detection.'\n",
    "    elif precision_delta < 0 <= recall_delta:\n",
    "        comparison_msg = 'Transformer improves recall but reduces precision, catching more paraphrases at the expense of extra false positives.'\n",
    "    else:\n",
    "        comparison_msg = 'Transformer underperforms the Siamese model on both metrics for this subset.'\n",
    "    print(comparison_msg)\n",
    "else:\n",
    "    print('Siamese metrics not found in the namespace; rerun Task 4 to enable comparison.')\n",
    "\n",
    "if misclassified_idx is not None:\n",
    "    mis_q1, mis_q2 = val_text_pairs[misclassified_idx]\n",
    "    print('Misclassified example:')\n",
    "    print('Question 1:', mis_q1)\n",
    "    print('Question 2:', mis_q2)\n",
    "    print(f'True label: {misclassified_true} - Predicted: {misclassified_pred}')\n",
    "    print('Possible reason: The questions share almost all tokens, so the model fixates on lexical overlap and misses that the second query broadens to names starting with D or H, turning the pair into a near-duplicate despite different intent.')\n",
    "else:\n",
    "    print('Transformer classified all evaluation examples correctly on this subset.')\n",
    "\n"
   ]
  },
  {
   "cell_type": "markdown",
   "id": "f38630c9",
   "metadata": {},
   "source": []
  }
 ],
 "metadata": {
  "kernelspec": {
   "display_name": "comp3420",
   "language": "python",
   "name": "python3"
  },
  "language_info": {
   "codemirror_mode": {
    "name": "ipython",
    "version": 3
   },
   "file_extension": ".py",
   "mimetype": "text/x-python",
   "name": "python",
   "nbconvert_exporter": "python",
   "pygments_lexer": "ipython3",
   "version": "3.11.13"
  }
 },
 "nbformat": 4,
 "nbformat_minor": 5
}
